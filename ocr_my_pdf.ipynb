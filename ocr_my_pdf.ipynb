{
 "cells": [
  {
   "cell_type": "markdown",
   "metadata": {},
   "source": [
    "# Welcome to OCR my PDF Webservice"
   ]
  },
  {
   "cell_type": "markdown",
   "metadata": {},
   "source": [
    "This Webservice uses the ocrmypdf library to give everyone free access to ocr their pdfs.\n",
    "To ocr your pdfs please follow the steps below:\n",
    "1. Upload all pdfs that you want to ocr into the following directory:\n",
    "2. Run this Jupiter Notebook by clicking 'Run All' which can be found in the navigation bar under 'Cell'\n",
    "3. Download the Zip file created in the head of this directory!"
   ]
  },
  {
   "cell_type": "markdown",
   "metadata": {},
   "source": [
    "## Preliminaries"
   ]
  },
  {
   "cell_type": "code",
   "execution_count": null,
   "metadata": {},
   "outputs": [],
   "source": [
    "import ocrmypdf\n",
    "import os"
   ]
  },
  {
   "cell_type": "markdown",
   "metadata": {},
   "source": [
    "## Do the PDF Munging..."
   ]
  },
  {
   "cell_type": "code",
   "execution_count": null,
   "metadata": {},
   "outputs": [],
   "source": [
    "cwd = os.getcwd()\n",
    "files_dir = os.path.join(cwd, 'files')\n",
    "\n",
    "for (dirpath, dirnames, filenames) in os.walk(files_dir):\n",
    "    for filename in filenames:\n",
    "        if filename[-9:] not in ['_ocrd.pdf', '_ocrd.PDF']:\n",
    "            print(filename+' is being ocrd...')\n",
    "            print(os.path.join(dirpath, filename[-4:]+'_ocrd'+'.pdf'))\n",
    "            ocrmypdf.ocr(os.path.join(dirpath, filename), os.path.join(dirpath, filename[:-4]+'_ocrd'+'.pdf'), \n",
    "                         deskew=True, force_ocr=True)"
   ]
  },
  {
   "cell_type": "markdown",
   "metadata": {},
   "source": [
    "## Squish all into a Zip file..."
   ]
  },
  {
   "cell_type": "code",
   "execution_count": 14,
   "metadata": {},
   "outputs": [
    {
     "ename": "NameError",
     "evalue": "name 'files_dir' is not defined",
     "output_type": "error",
     "traceback": [
      "\u001b[1;31m---------------------------------------------------------------------------\u001b[0m",
      "\u001b[1;31mNameError\u001b[0m                                 Traceback (most recent call last)",
      "\u001b[1;32m<ipython-input-14-f3d4407fc256>\u001b[0m in \u001b[0;36m<module>\u001b[1;34m()\u001b[0m\n\u001b[1;32m----> 1\u001b[1;33m \u001b[0mprint\u001b[0m\u001b[1;33m(\u001b[0m\u001b[0mfiles_dir\u001b[0m\u001b[1;33m)\u001b[0m\u001b[1;33m\u001b[0m\u001b[0m\n\u001b[0m\u001b[0;32m      2\u001b[0m \u001b[0mget_ipython\u001b[0m\u001b[1;33m(\u001b[0m\u001b[1;33m)\u001b[0m\u001b[1;33m.\u001b[0m\u001b[0msystem\u001b[0m\u001b[1;33m(\u001b[0m\u001b[1;34m\"tar -czvf 'pdfs_ocrd.tar.gz' files_dir\"\u001b[0m\u001b[1;33m)\u001b[0m\u001b[1;33m\u001b[0m\u001b[0m\n",
      "\u001b[1;31mNameError\u001b[0m: name 'files_dir' is not defined"
     ]
    }
   ],
   "source": [
    "!tar -czf pdfs_ocrd.tar.gz /home/jovyan/files"
   ]
  },
  {
   "cell_type": "code",
   "execution_count": null,
   "metadata": {},
   "outputs": [],
   "source": [
    "print('')\n",
    "print('#############################################################')\n",
    "print('hurray your pdfs are all OCRD now and ready to be downloaded!')"
   ]
  }
 ],
 "metadata": {
  "kernelspec": {
   "display_name": "Python 3",
   "language": "python",
   "name": "python3"
  },
  "language_info": {
   "codemirror_mode": {
    "name": "ipython",
    "version": 3
   },
   "file_extension": ".py",
   "mimetype": "text/x-python",
   "name": "python",
   "nbconvert_exporter": "python",
   "pygments_lexer": "ipython3",
   "version": "3.7.0"
  }
 },
 "nbformat": 4,
 "nbformat_minor": 2
}
