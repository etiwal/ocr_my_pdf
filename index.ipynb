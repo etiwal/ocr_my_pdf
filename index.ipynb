{
 "cells": [
  {
   "cell_type": "markdown",
   "metadata": {},
   "source": [
    "# Welcome to OCR my PDF Webservice"
   ]
  },
  {
   "cell_type": "markdown",
   "metadata": {},
   "source": [
    "This Webservice uses the ocrmypdf library to give everyone free access to ocr their pdfs.\n",
    "To ocr your pdfs please follow the steps below:\n",
    "1. Upload all pdfs that you want to ocr into the following directory:\n",
    "2. Run this Jupiter Notebook by clicking 'Run All' which can be found in the navigation bar under 'Cell'"
   ]
  },
  {
   "cell_type": "markdown",
   "metadata": {},
   "source": [
    "## Preliminaries"
   ]
  },
  {
   "cell_type": "code",
   "execution_count": null,
   "metadata": {},
   "outputs": [],
   "source": [
    "import ocrmypdf\n",
    "import os\n",
    "import subprocess"
   ]
  },
  {
   "cell_type": "markdown",
   "metadata": {},
   "source": [
    "## Do the PDF Munging..."
   ]
  },
  {
   "cell_type": "code",
   "execution_count": null,
   "metadata": {},
   "outputs": [],
   "source": [
    "cwd = os.getcwd()\n",
    "\n",
    "for (dirpath, dirnames, filenames) in os.walk(os.path.join(cwd, 'files')):\n",
    "    for filename in filenames:\n",
    "        print(filename+' is being ocrd...')\n",
    "        bashCommand = \"ocrmypdf '\"+(os.path.join(cwd, filename))+\"' '\"+os.path.join(cwd, '_ocrd', filename)+\"' -l deu --output-type pdf\"\n",
    "        print(bashCommand)\n",
    "        process = subprocess.Popen(('ocrmypdf', (os.path.join(cwd, filename)), os.path.join(cwd, '_ocrd', filename), '-l', 'deu', '--output-type', 'pdf'), stdout=subprocess.PIPE)\n",
    "        output, error = process.communicate()\n",
    "        print(output, error)"
   ]
  },
  {
   "cell_type": "code",
   "execution_count": null,
   "metadata": {},
   "outputs": [],
   "source": []
  }
 ],
 "metadata": {
  "kernelspec": {
   "display_name": "Python 3",
   "language": "python",
   "name": "python3"
  },
  "language_info": {
   "codemirror_mode": {
    "name": "ipython",
    "version": 3
   },
   "file_extension": ".py",
   "mimetype": "text/x-python",
   "name": "python",
   "nbconvert_exporter": "python",
   "pygments_lexer": "ipython3",
   "version": "3.7.0"
  }
 },
 "nbformat": 4,
 "nbformat_minor": 2
}
